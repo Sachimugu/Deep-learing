{
 "cells": [
  {
   "cell_type": "code",
   "execution_count": 2,
   "id": "dd982c6b",
   "metadata": {},
   "outputs": [],
   "source": [
    "import numpy as np\n",
    "import pandas as pd"
   ]
  },
  {
   "cell_type": "code",
   "execution_count": 3,
   "id": "4dff045e",
   "metadata": {},
   "outputs": [],
   "source": [
    "y_pred = np.array([1,1,0,0,1])\n",
    "y_test = np.array([0.30,0.7,1,0,0.5])"
   ]
  },
  {
   "cell_type": "markdown",
   "id": "4c68f829",
   "metadata": {},
   "source": [
    "### Implement Mean Absolute Error\n"
   ]
  },
  {
   "cell_type": "code",
   "execution_count": 4,
   "id": "ebc1cfef",
   "metadata": {},
   "outputs": [
    {
     "data": {
      "text/plain": [
       "0.5"
      ]
     },
     "execution_count": 4,
     "metadata": {},
     "output_type": "execute_result"
    }
   ],
   "source": [
    "abs_diff=np.abs(y_pred-y_test)\n",
    "np.mean(abs_diff)"
   ]
  },
  {
   "cell_type": "markdown",
   "id": "42ac7e1a",
   "metadata": {},
   "source": [
    "### Implement Mean Square Error"
   ]
  },
  {
   "cell_type": "code",
   "execution_count": 5,
   "id": "11471a50",
   "metadata": {},
   "outputs": [
    {
     "data": {
      "text/plain": [
       "0.366"
      ]
     },
     "execution_count": 5,
     "metadata": {},
     "output_type": "execute_result"
    }
   ],
   "source": [
    "sq_diff=np.square(y_pred-y_test)\n",
    "np.mean(sq_diff)"
   ]
  },
  {
   "cell_type": "markdown",
   "id": "7e43d2dd",
   "metadata": {},
   "source": [
    "### Implement Log Loss or Binary Cross Entropy"
   ]
  },
  {
   "cell_type": "code",
   "execution_count": 6,
   "id": "9d2856d6",
   "metadata": {},
   "outputs": [],
   "source": [
    "f0=epsilon = 1e-15\n",
    "f1=1-epsilon"
   ]
  },
  {
   "cell_type": "code",
   "execution_count": 7,
   "id": "ca6e8258",
   "metadata": {},
   "outputs": [],
   "source": [
    "df=pd.DataFrame({ 'y_pred':y_pred})\n",
    "y_pred=df['y_pred'].map({1:f1,0:f0})"
   ]
  },
  {
   "cell_type": "code",
   "execution_count": 8,
   "id": "fb4e39af",
   "metadata": {},
   "outputs": [
    {
     "data": {
      "text/plain": [
       "17.2696280766844"
      ]
     },
     "execution_count": 8,
     "metadata": {},
     "output_type": "execute_result"
    }
   ],
   "source": [
    "-np.mean(y_test*np.log(y_pred)+(1-y_test)*np.log(1-y_pred))"
   ]
  },
  {
   "cell_type": "code",
   "execution_count": null,
   "id": "9f6625a1",
   "metadata": {},
   "outputs": [],
   "source": []
  }
 ],
 "metadata": {
  "kernelspec": {
   "display_name": "Python 3 (ipykernel)",
   "language": "python",
   "name": "python3"
  },
  "language_info": {
   "codemirror_mode": {
    "name": "ipython",
    "version": 3
   },
   "file_extension": ".py",
   "mimetype": "text/x-python",
   "name": "python",
   "nbconvert_exporter": "python",
   "pygments_lexer": "ipython3",
   "version": "3.9.7"
  }
 },
 "nbformat": 4,
 "nbformat_minor": 5
}
