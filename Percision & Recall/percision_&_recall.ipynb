{
 "cells": [
  {
   "cell_type": "markdown",
   "id": "0839cb02",
   "metadata": {},
   "source": [
    "### Importing required Libraries"
   ]
  },
  {
   "cell_type": "code",
   "execution_count": 1,
   "id": "7b8e4082",
   "metadata": {},
   "outputs": [],
   "source": [
    "from matplotlib import pyplot as plt\n",
    "from sklearn.metrics import confusion_matrix , classification_report\n",
    "import pandas as pd\n",
    "import seaborn as sns"
   ]
  },
  {
   "cell_type": "markdown",
   "id": "172865f1",
   "metadata": {},
   "source": [
    "### Data"
   ]
  },
  {
   "cell_type": "code",
   "execution_count": 2,
   "id": "778f313e",
   "metadata": {},
   "outputs": [],
   "source": [
    "y_test =[1,1,0,1,0,1,0,1,1,1,1,1,0,0,0,0,1,0,1,0,0]\n",
    "y_pred =[1,0,0,1,0,1,1,0,1,0,1,1,0,1,1,0,1,0,0,0,1]"
   ]
  },
  {
   "cell_type": "markdown",
   "id": "b5e59453",
   "metadata": {},
   "source": []
  },
  {
   "cell_type": "markdown",
   "id": "ec7376cb",
   "metadata": {},
   "source": [
    "### Accuracy\n",
    "Accuracy of model\n",
    "\n",
    "**Accuracy = (TN+TP)/(TN+TP+FN+FP)**\n",
    "<hr>"
   ]
  },
  {
   "cell_type": "markdown",
   "id": "574f0b69",
   "metadata": {},
   "source": [
    "\n",
    "### Precision – Accuracy of positive predictions\n",
    "Precision is the ability of a classifier not to label an instance positive that is actually negative. For each class it is defined as the ratio of true positives to the sum of true and false positives\n",
    "\n",
    "**Precision = TP/(TP + FP)**\n",
    "<hr>"
   ]
  },
  {
   "cell_type": "markdown",
   "id": "ca245158",
   "metadata": {},
   "source": [
    "### Recall: Fraction of positives that were correctly identified.\n",
    "\n",
    "Recall is the ability of a classifier to find all positive instances. For each class it is defined as the ratio of true positives to the sum of true positives and false negatives.\n",
    "\n",
    "**Recall = TP/(TP+FN)**\n",
    "<hr>"
   ]
  },
  {
   "cell_type": "markdown",
   "id": "10269f1b",
   "metadata": {},
   "source": [
    "### F1 score\n",
    "The F1 score is a weighted harmonic mean of precision and recall such that the best score is 1.0 and the worst is 0.0. Generally speaking, F1 scores are lower than accuracy measures as they embed precision and recall into their computation. As a rule of thumb, the weighted average of F1 should be used to compare classifier models, not global accuracy.\n",
    "\n",
    "**F1 Score = 2*(Recall * Precision) / (Recall + Precision)**\n",
    "<hr>"
   ]
  },
  {
   "cell_type": "markdown",
   "id": "017819ee",
   "metadata": {},
   "source": [
    "**where:**\n",
    "<ol>\n",
    "    <li>TN / True Negative: when a case was negative and predicted negative</li>\n",
    "    <li>TP / True Positive: when a case was positive and predicted positive</li>\n",
    "    <li>FN / False Negative: when a case was positive but predicted negative</li>\n",
    "    <li>FP / False Positive: when a case was negative but predicted positive</li>\n",
    "</ol>"
   ]
  },
  {
   "cell_type": "code",
   "execution_count": 3,
   "id": "393e4131",
   "metadata": {},
   "outputs": [],
   "source": [
    "### Confusion Matrix"
   ]
  },
  {
   "cell_type": "code",
   "execution_count": 4,
   "id": "98710507",
   "metadata": {},
   "outputs": [
    {
     "data": {
      "text/plain": [
       "<AxesSubplot:>"
      ]
     },
     "execution_count": 4,
     "metadata": {},
     "output_type": "execute_result"
    },
    {
     "data": {
      "image/png": "[encoded data removed]",
      "text/plain": [
       "<Figure size 432x288 with 2 Axes>"
      ]
     },
     "metadata": {
      "needs_background": "light"
     },
     "output_type": "display_data"
    }
   ],
   "source": [
    "cm = confusion_matrix(y_test,y_pred)\n",
    "sns.heatmap(cm,annot=True)"
   ]
  },
  {
   "cell_type": "code",
   "execution_count": 5,
   "id": "e06bf264",
   "metadata": {},
   "outputs": [],
   "source": [
    "### Classification Report"
   ]
  },
  {
   "cell_type": "code",
   "execution_count": 6,
   "id": "a301b863",
   "metadata": {},
   "outputs": [
    {
     "name": "stdout",
     "output_type": "stream",
     "text": [
      "              precision    recall  f1-score   support\n",
      "\n",
      "           0       0.60      0.60      0.60        10\n",
      "           1       0.64      0.64      0.64        11\n",
      "\n",
      "    accuracy                           0.62        21\n",
      "   macro avg       0.62      0.62      0.62        21\n",
      "weighted avg       0.62      0.62      0.62        21\n",
      "\n"
     ]
    }
   ],
   "source": [
    "print(classification_report(y_test,y_pred))"
   ]
  },
  {
   "cell_type": "markdown",
   "id": "c6492b14",
   "metadata": {},
   "source": []
  }
 ],
 "metadata": {
  "kernelspec": {
   "display_name": "Python 3 (ipykernel)",
   "language": "python",
   "name": "python3"
  },
  "language_info": {
   "codemirror_mode": {
    "name": "ipython",
    "version": 3
   },
   "file_extension": ".py",
   "mimetype": "text/x-python",
   "name": "python",
   "nbconvert_exporter": "python",
   "pygments_lexer": "ipython3",
   "version": "3.9.7"
  }
 },
 "nbformat": 4,
 "nbformat_minor": 5
}
