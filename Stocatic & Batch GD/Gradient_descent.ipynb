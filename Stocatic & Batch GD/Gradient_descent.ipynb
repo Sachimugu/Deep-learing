{
 "cells": [
  {
   "cell_type": "code",
   "execution_count": 1,
   "id": "fad6dbd1",
   "metadata": {},
   "outputs": [],
   "source": [
    "### Basic implementation of gradient Descent"
   ]
  },
  {
   "cell_type": "code",
   "execution_count": 2,
   "id": "64dbcfdf",
   "metadata": {},
   "outputs": [],
   "source": [
    "import pandas as pd\n",
    "import numpy as np\n"
   ]
  },
  {
   "cell_type": "code",
   "execution_count": 4,
   "id": "7d923d9b",
   "metadata": {},
   "outputs": [
    {
     "data": {
      "text/html": [
       "<div>\n",
       "<style scoped>\n",
       "    .dataframe tbody tr th:only-of-type {\n",
       "        vertical-align: middle;\n",
       "    }\n",
       "\n",
       "    .dataframe tbody tr th {\n",
       "        vertical-align: top;\n",
       "    }\n",
       "\n",
       "    .dataframe thead th {\n",
       "        text-align: right;\n",
       "    }\n",
       "</style>\n",
       "<table border=\"1\" class=\"dataframe\">\n",
       "  <thead>\n",
       "    <tr style=\"text-align: right;\">\n",
       "      <th></th>\n",
       "      <th>age</th>\n",
       "      <th>affordibility</th>\n",
       "      <th>bought_insurance</th>\n",
       "    </tr>\n",
       "  </thead>\n",
       "  <tbody>\n",
       "    <tr>\n",
       "      <th>0</th>\n",
       "      <td>22</td>\n",
       "      <td>1</td>\n",
       "      <td>0</td>\n",
       "    </tr>\n",
       "    <tr>\n",
       "      <th>1</th>\n",
       "      <td>25</td>\n",
       "      <td>0</td>\n",
       "      <td>0</td>\n",
       "    </tr>\n",
       "    <tr>\n",
       "      <th>2</th>\n",
       "      <td>47</td>\n",
       "      <td>1</td>\n",
       "      <td>1</td>\n",
       "    </tr>\n",
       "    <tr>\n",
       "      <th>3</th>\n",
       "      <td>52</td>\n",
       "      <td>0</td>\n",
       "      <td>0</td>\n",
       "    </tr>\n",
       "    <tr>\n",
       "      <th>4</th>\n",
       "      <td>46</td>\n",
       "      <td>1</td>\n",
       "      <td>1</td>\n",
       "    </tr>\n",
       "  </tbody>\n",
       "</table>\n",
       "</div>"
      ],
      "text/plain": [
       "   age  affordibility  bought_insurance\n",
       "0   22              1                 0\n",
       "1   25              0                 0\n",
       "2   47              1                 1\n",
       "3   52              0                 0\n",
       "4   46              1                 1"
      ]
     },
     "execution_count": 4,
     "metadata": {},
     "output_type": "execute_result"
    }
   ],
   "source": [
    "df = pd.read_csv(\"insurance_data.csv\")\n",
    "df.head()"
   ]
  },
  {
   "cell_type": "markdown",
   "id": "5431a12e",
   "metadata": {},
   "source": [
    "#### Split train and test set"
   ]
  },
  {
   "cell_type": "code",
   "execution_count": 5,
   "id": "0017c416",
   "metadata": {},
   "outputs": [],
   "source": [
    "from sklearn.model_selection import train_test_split\n",
    "X_train, X_test, y_train, y_test = train_test_split(df[['age','affordibility']],df.bought_insurance,test_size=0.2, random_state=25)"
   ]
  },
  {
   "cell_type": "markdown",
   "id": "df7c2925",
   "metadata": {},
   "source": [
    "#### Preprocessing"
   ]
  },
  {
   "cell_type": "code",
   "execution_count": 7,
   "id": "14530b3e",
   "metadata": {},
   "outputs": [],
   "source": [
    "X_train['age'] = X_train['age'] / 100\n",
    "X_test = X_test['age'] / 100"
   ]
  },
  {
   "cell_type": "markdown",
   "id": "c4f089e7",
   "metadata": {},
   "source": [
    "#### gradient_descent"
   ]
  },
  {
   "cell_type": "code",
   "execution_count": 8,
   "id": "2b3c6234",
   "metadata": {},
   "outputs": [],
   "source": [
    "def sigmoid(X):\n",
    "    return 1/(1+np.exp(-X))"
   ]
  },
  {
   "cell_type": "code",
   "execution_count": 9,
   "id": "7ed1a548",
   "metadata": {},
   "outputs": [],
   "source": [
    "def log_loss(y_true, y_predicted):\n",
    "    epsilon = 1e-15\n",
    "    y_predicted_new = [max(i,epsilon) for i in y_predicted]\n",
    "    y_predicted_new = [min(i,1-epsilon) for i in y_predicted_new]\n",
    "    y_predicted_new = np.array(y_predicted_new)\n",
    "    return -np.mean(y_true*np.log(y_predicted_new)+(1-y_true)*np.log(1-y_predicted_new))"
   ]
  },
  {
   "cell_type": "code",
   "execution_count": 10,
   "id": "b9e72a1c",
   "metadata": {},
   "outputs": [],
   "source": [
    "def gradient_descent(age, affordability, y_train, epochs):\n",
    "    w1 = w2 = 1\n",
    "    bias = 0\n",
    "    rate = 0.5\n",
    "    n = len(age)\n",
    "    for i in range(epochs):\n",
    "        weighted_sum = w1 * age + w2 * affordability + bias\n",
    "        y_pred = sigmoid(weighted_sum)\n",
    "        loss = log_loss(y_train, y_pred)\n",
    "\n",
    "\n",
    "        w1d = (1/n)*np.dot(np.transpose(age),(y_pred-y_train)) \n",
    "        w2d = (1/n)*np.dot(np.transpose(affordability),(y_pred-y_train)) \n",
    "\n",
    "        bias_d = np.mean(y_pred-y_train)\n",
    "        w1 = w1 - rate * w1d\n",
    "        w2 = w2 - rate * w2d\n",
    "        bias = bias - rate * bias_d    \n",
    "    return f'age wieght: {w1}, affordability weight: {w2}, bias: {bias}, loss: {loss}'"
   ]
  },
  {
   "cell_type": "code",
   "execution_count": 12,
   "id": "57fb1e84",
   "metadata": {},
   "outputs": [
    {
     "data": {
      "text/plain": [
       "'age wieght: 8.270239516056172, affordability weight: 1.6332228396255535, bias: -4.425953608965705, loss: 0.42001928114130216'"
      ]
     },
     "execution_count": 12,
     "metadata": {},
     "output_type": "execute_result"
    }
   ],
   "source": [
    "gradient_descent(X_train['age'],X_train['affordibility'],y_train,1000)"
   ]
  },
  {
   "cell_type": "code",
   "execution_count": null,
   "id": "5f9a1be4",
   "metadata": {},
   "outputs": [],
   "source": []
  }
 ],
 "metadata": {
  "kernelspec": {
   "display_name": "Python 3 (ipykernel)",
   "language": "python",
   "name": "python3"
  },
  "language_info": {
   "codemirror_mode": {
    "name": "ipython",
    "version": 3
   },
   "file_extension": ".py",
   "mimetype": "text/x-python",
   "name": "python",
   "nbconvert_exporter": "python",
   "pygments_lexer": "ipython3",
   "version": "3.9.7"
  }
 },
 "nbformat": 4,
 "nbformat_minor": 5
}
